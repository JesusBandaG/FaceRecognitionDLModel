{
  "nbformat": 4,
  "nbformat_minor": 0,
  "metadata": {
    "colab": {
      "name": "Face_Recognition_System_Final.ipynb",
      "provenance": [],
      "collapsed_sections": [],
      "include_colab_link": true
    },
    "kernelspec": {
      "name": "python3",
      "display_name": "Python 3"
    },
    "accelerator": "GPU"
  },
  "cells": [
    {
      "cell_type": "markdown",
      "metadata": {
        "id": "view-in-github",
        "colab_type": "text"
      },
      "source": [
        "<a href=\"https://colab.research.google.com/github/JesusBandaG/FaceRecognitionDLModel/blob/main/Face_Recognition_System.ipynb\" target=\"_parent\"><img src=\"https://colab.research.google.com/assets/colab-badge.svg\" alt=\"Open In Colab\"/></a>"
      ]
    },
    {
      "cell_type": "markdown",
      "metadata": {
        "id": "TDw2rSPSG_Ys"
      },
      "source": [
        "# **Face Recognition System**"
      ]
    },
    {
      "cell_type": "code",
      "metadata": {
        "id": "7wFlHdnVW23Y",
        "colab": {
          "base_uri": "https://localhost:8080/"
        },
        "outputId": "41fc35cb-1a1e-4229-c886-81e0b75a6d05"
      },
      "source": [
        "from google.colab import drive\n",
        "drive.mount('/content/drive')"
      ],
      "execution_count": null,
      "outputs": [
        {
          "output_type": "stream",
          "text": [
            "Mounted at /content/drive\n"
          ],
          "name": "stdout"
        }
      ]
    },
    {
      "cell_type": "code",
      "metadata": {
        "id": "P71-MuIa6f5o"
      },
      "source": [
        "# Importing required libraries\n",
        "import random, os, shutil\n",
        "import imageio\n",
        "import cv2\n",
        "import numpy as np\n",
        "import PIL\n",
        "import os\n",
        "from zipfile import ZipFile"
      ],
      "execution_count": null,
      "outputs": []
    },
    {
      "cell_type": "markdown",
      "metadata": {
        "id": "ygTol8R3KNrI"
      },
      "source": [
        "## **Unzip the database**"
      ]
    },
    {
      "cell_type": "code",
      "metadata": {
        "id": "Aq6WKNncEm-W"
      },
      "source": [
        "cont = 0\n",
        "for i in range(20):\n",
        "  cont = cont + 1\n",
        "  if cont < 10 and cont != 5 and cont != 6:\n",
        "    file_name = '/content/drive/My Drive/Terravic_Facial_IR_Database/face0{}.zip'.format(cont)\n",
        "  elif cont >= 10:\n",
        "    file_name = '/content/drive/My Drive/Terravic_Facial_IR_Database/face{}.zip'.format(cont)\n",
        "  with ZipFile(file_name, 'r') as zip: \n",
        "    zip.extractall('Terravic_Original') "
      ],
      "execution_count": null,
      "outputs": []
    },
    {
      "cell_type": "markdown",
      "metadata": {
        "id": "-34D66Z56tV6"
      },
      "source": [
        "## **Renaming the database classes**"
      ]
    },
    {
      "cell_type": "markdown",
      "metadata": {
        "id": "LyujGlV2ow2a"
      },
      "source": [
        "This operation is important to handle the names of the folders that contain the pictures of each person more easily, and it must be considered that the collections 5 and 6 are corrupted and it is not possible to access them."
      ]
    },
    {
      "cell_type": "code",
      "metadata": {
        "id": "b6Gz10m7q5dj"
      },
      "source": [
        "for i in range(1,21):\n",
        "  if i >= 7 and i <= 9:\n",
        "    os.rename('Terravic_Original/face0{}'.format(i), 'Terravic_Original/face0{}'.format(i - 2))\n",
        "  elif i >= 10 and i <= 11:\n",
        "    os.rename('Terravic_Original/face{}'.format(i), 'Terravic_Original/face0{}'.format(i - 2))\n",
        "  elif i >= 12:\n",
        "    os.rename('Terravic_Original/face{}'.format(i), 'Terravic_Original/face{}'.format(i - 2))"
      ],
      "execution_count": null,
      "outputs": []
    },
    {
      "cell_type": "markdown",
      "metadata": {
        "id": "UvMCmqgQX3T-"
      },
      "source": [
        "# **Creation of training, validation and testing datasets**"
      ]
    },
    {
      "cell_type": "markdown",
      "metadata": {
        "id": "yqvrp83qTucK"
      },
      "source": [
        "**We order randomly the database to avoid any bias**"
      ]
    },
    {
      "cell_type": "code",
      "metadata": {
        "id": "N69mgHHOgw0w"
      },
      "source": [
        "os.mkdir('Terravic_Shuffled')"
      ],
      "execution_count": null,
      "outputs": []
    },
    {
      "cell_type": "code",
      "metadata": {
        "id": "OUajfMjBMbhj"
      },
      "source": [
        "# Creating the directories\n",
        "for i in range(18):\n",
        "  if i < 9: #i = 0\n",
        "    dest_train = 'Terravic_Shuffled/person0{}/'.format(i+1)\n",
        "  elif i >= 9:\n",
        "    dest_train = 'Terravic_Shuffled/person{}/'.format(i+1)\n",
        "  os.mkdir(dest_train)\n",
        "\n",
        "\n",
        "for index_class in range(18): #index_class = 0\n",
        "  sample = 0\n",
        "  index_class = index_class + 1 #index_class = 1\n",
        "  if index_class < 10: \n",
        "    class_path = 'Terravic_Original/face0{}/'.format(index_class)\n",
        "  elif index_class >= 10:\n",
        "    class_path = 'Terravic_Original/face{}/'.format(index_class)\n",
        "\n",
        "  lst = sorted(os.listdir(class_path))\n",
        "\n",
        "  #Shuffling the dataset\n",
        "  random.shuffle(lst)\n",
        "\n",
        "  for file_name in lst:\n",
        "    img_person = imageio.imread(class_path + file_name)\n",
        "    if index_class < 10:\n",
        "      if sample < 10:                                                       #0000.jpg\n",
        "        imageio.imwrite('Terravic_Shuffled/person0{}/'.format(index_class) + '000{}.jpg'.format(sample), img_person)\n",
        "      elif sample >= 10 and sample < 100:\n",
        "        imageio.imwrite('Terravic_Shuffled/person0{}/'.format(index_class) + '00{}.jpg'.format(sample), img_person)\n",
        "      elif sample >= 100 and sample < 1000:\n",
        "        imageio.imwrite('Terravic_Shuffled/person0{}/'.format(index_class) + '0{}.jpg'.format(sample), img_person)\n",
        "      else:\n",
        "        imageio.imwrite('Terravic_Shuffled/person0{}/'.format(index_class) + '{}.jpg'.format(sample), img_person)\n",
        "      \n",
        "      sample = sample + 1\n",
        "\n",
        "    else:\n",
        "      if sample < 10:\n",
        "        imageio.imwrite('Terravic_Shuffled/person{}/'.format(index_class) + '000{}.jpg'.format(sample), img_person)\n",
        "      elif sample >= 10 and sample < 100:\n",
        "        imageio.imwrite('Terravic_Shuffled/person{}/'.format(index_class) + '00{}.jpg'.format(sample), img_person)\n",
        "      elif sample >= 100 and sample < 1000:\n",
        "        imageio.imwrite('Terravic_Shuffled/person{}/'.format(index_class) + '0{}.jpg'.format(sample), img_person)\n",
        "      else:\n",
        "        imageio.imwrite('Terravic_Shuffled/person{}/'.format(index_class) + '{}.jpg'.format(sample), img_person)\n",
        "      \n",
        "      sample = sample + 1"
      ],
      "execution_count": null,
      "outputs": []
    },
    {
      "cell_type": "code",
      "metadata": {
        "colab": {
          "base_uri": "https://localhost:8080/"
        },
        "id": "SDVW2l3w0UeG",
        "outputId": "5fb077da-c58b-435f-f96b-bda3f513041b"
      },
      "source": [
        "# Verification\n",
        "for i in range(18):\n",
        "  i = i +1\n",
        "  if i < 10:\n",
        "    print('total  images in test_original/person0{}:'.format(i), len(os.listdir('Terravic_Shuffled/person0{}/'.format(i))))\n",
        "  else:\n",
        "    print('total  images in test_original/person{}:'.format(i), len(os.listdir('Terravic_Shuffled/person{}/'.format(i))))"
      ],
      "execution_count": null,
      "outputs": [
        {
          "output_type": "stream",
          "text": [
            "total  images in test_original/person01: 227\n",
            "total  images in test_original/person02: 620\n",
            "total  images in test_original/person03: 592\n",
            "total  images in test_original/person04: 487\n",
            "total  images in test_original/person05: 1297\n",
            "total  images in test_original/person06: 857\n",
            "total  images in test_original/person07: 1117\n",
            "total  images in test_original/person08: 283\n",
            "total  images in test_original/person09: 434\n",
            "total  images in test_original/person10: 2179\n",
            "total  images in test_original/person11: 1417\n",
            "total  images in test_original/person12: 1482\n",
            "total  images in test_original/person13: 1125\n",
            "total  images in test_original/person14: 1611\n",
            "total  images in test_original/person15: 2632\n",
            "total  images in test_original/person16: 2215\n",
            "total  images in test_original/person17: 2539\n",
            "total  images in test_original/person18: 1670\n"
          ],
          "name": "stdout"
        }
      ]
    },
    {
      "cell_type": "markdown",
      "metadata": {
        "id": "N-yPvA0hWA6u"
      },
      "source": [
        "**Creating the datasets directories with their corresponding folders for each person in the database**"
      ]
    },
    {
      "cell_type": "code",
      "metadata": {
        "id": "oZi6kEWLct8C"
      },
      "source": [
        "datasets = ['train', 'validation', 'test']\n",
        "\n",
        "for dataset_name in datasets:\n",
        "  os.mkdir(dataset_name)\n",
        "  for i in range(18):\n",
        "    if i < 9:\n",
        "      dest_train = dataset_name+'/person0{}/'.format(i+1)\n",
        "    elif i >= 9:\n",
        "      dest_train = dataset_name+'/person{}/'.format(i+1)\n",
        "    os.mkdir(dest_train)"
      ],
      "execution_count": null,
      "outputs": []
    },
    {
      "cell_type": "code",
      "metadata": {
        "id": "Quxmqdouz9yP"
      },
      "source": [
        "def fill_dataset(src_dataset, dest_dataset, person_index, lower_limit, upper_limit):\n",
        "  \n",
        "  if person_index < 10:\n",
        "    src_path = src_dataset+'/person0{}/'.format(person_index)\n",
        "    dest_path = dest_dataset+'/person0{}/'.format(person_index)\n",
        "  else:\n",
        "    src_path = src_dataset+'/person{}/'.format(person_index)\n",
        "    dest_path = dest_dataset+'/person{}/'.format(person_index)\n",
        "\n",
        "  lst = sorted(os.listdir(src_path))\n",
        "        \n",
        "  for file_name in lst[lower_limit:upper_limit]:\n",
        "    if lower_limit < upper_limit:\n",
        "      img_original = imageio.imread(src_path + file_name)\n",
        "      if lower_limit < 10:\n",
        "          imageio.imwrite(dest_path + '000{}.jpg'.format(lower_limit), img_original)\n",
        "      elif lower_limit >= 10 and lower_limit < 100:\n",
        "          imageio.imwrite(dest_path + '00{}.jpg'.format(lower_limit), img_original)\n",
        "      else: \n",
        "          imageio.imwrite(dest_path + '0{}.jpg'.format(lower_limit), img_original)\n",
        "              \n",
        "      lower_limit = lower_limit + 1"
      ],
      "execution_count": null,
      "outputs": []
    },
    {
      "cell_type": "markdown",
      "metadata": {
        "id": "1GxpOXUDOCWj"
      },
      "source": [
        "**Assigning images to each dataset**"
      ]
    },
    {
      "cell_type": "code",
      "metadata": {
        "colab": {
          "base_uri": "https://localhost:8080/"
        },
        "id": "NXEj5jLD0wqn",
        "outputId": "5dbdd49f-5327-459b-bef3-9fcb77182faa"
      },
      "source": [
        "for i in range (1, 19):\n",
        "  if i < 10:\n",
        "    total = len(os.listdir('Terravic_Shuffled/person0{}'.format(i)))\n",
        "  else:\n",
        "    total = len(os.listdir('Terravic_Shuffled/person{}'.format(i)))\n",
        "  limit1 = total - 127\n",
        "  if limit1 % 2 == 0:\n",
        "    limit_validation = int(limit1 / 2)\n",
        "    limit_test = limit_validation\n",
        "  else:\n",
        "    limit_validation = limit1 // 2\n",
        "    limit_test = (limit1 // 2) + 1\n",
        "\n",
        "  fill_dataset('Terravic_Shuffled','train', i, 0, 127)\n",
        "  print(limit_validation + 127)\n",
        "  fill_dataset('Terravic_Shuffled','validation', i, 127, limit_validation + 127)\n",
        "  fill_dataset('Terravic_Shuffled','test', i, limit_validation + 127, limit_validation + limit_test + 127)"
      ],
      "execution_count": null,
      "outputs": [
        {
          "output_type": "stream",
          "text": [
            "177\n",
            "373\n",
            "359\n",
            "307\n",
            "712\n",
            "492\n",
            "622\n",
            "205\n",
            "280\n",
            "1153\n",
            "772\n",
            "804\n",
            "626\n",
            "869\n",
            "1379\n",
            "1171\n",
            "1333\n",
            "898\n"
          ],
          "name": "stdout"
        }
      ]
    },
    {
      "cell_type": "code",
      "metadata": {
        "id": "ky7uBJckZIJO",
        "colab": {
          "base_uri": "https://localhost:8080/"
        },
        "outputId": "a32eb19c-e991-43e8-e6fb-4e892e2bdcdb"
      },
      "source": [
        "#  Verification \n",
        "import os\n",
        "for i in range(18):\n",
        "  i = i +1\n",
        "  if i < 10:\n",
        "    print('total  images in train/person0{}:'.format(i), len(os.listdir('train/person0{}/'.format(i))))\n",
        "    print('total  images in validation/person0{}:'.format(i), len(os.listdir('validation/person0{}/'.format(i))))\n",
        "    print('total  images in test/person0{}:'.format(i), len(os.listdir('test/person0{}/'.format(i))))\n",
        "  else:\n",
        "    print('total  images in train/person{}:'.format(i), len(os.listdir('train/person{}/'.format(i))))\n",
        "    print('total  images in validation/person{}:'.format(i), len(os.listdir('validation/person{}/'.format(i))))\n",
        "    print('total  images in test/person{}:'.format(i), len(os.listdir('test/person{}/'.format(i))))"
      ],
      "execution_count": null,
      "outputs": [
        {
          "output_type": "stream",
          "text": [
            "total  images in train/person01: 127\n",
            "total  images in validation/person01: 50\n",
            "total  images in test/person01: 50\n",
            "total  images in train/person02: 127\n",
            "total  images in validation/person02: 246\n",
            "total  images in test/person02: 247\n",
            "total  images in train/person03: 127\n",
            "total  images in validation/person03: 232\n",
            "total  images in test/person03: 233\n",
            "total  images in train/person04: 127\n",
            "total  images in validation/person04: 180\n",
            "total  images in test/person04: 180\n",
            "total  images in train/person05: 127\n",
            "total  images in validation/person05: 585\n",
            "total  images in test/person05: 585\n",
            "total  images in train/person06: 127\n",
            "total  images in validation/person06: 365\n",
            "total  images in test/person06: 365\n",
            "total  images in train/person07: 127\n",
            "total  images in validation/person07: 495\n",
            "total  images in test/person07: 495\n",
            "total  images in train/person08: 127\n",
            "total  images in validation/person08: 78\n",
            "total  images in test/person08: 78\n",
            "total  images in train/person09: 127\n",
            "total  images in validation/person09: 153\n",
            "total  images in test/person09: 154\n",
            "total  images in train/person10: 127\n",
            "total  images in validation/person10: 1026\n",
            "total  images in test/person10: 1026\n",
            "total  images in train/person11: 127\n",
            "total  images in validation/person11: 645\n",
            "total  images in test/person11: 645\n",
            "total  images in train/person12: 127\n",
            "total  images in validation/person12: 677\n",
            "total  images in test/person12: 678\n",
            "total  images in train/person13: 127\n",
            "total  images in validation/person13: 499\n",
            "total  images in test/person13: 499\n",
            "total  images in train/person14: 127\n",
            "total  images in validation/person14: 742\n",
            "total  images in test/person14: 742\n",
            "total  images in train/person15: 127\n",
            "total  images in validation/person15: 1252\n",
            "total  images in test/person15: 1253\n",
            "total  images in train/person16: 127\n",
            "total  images in validation/person16: 1044\n",
            "total  images in test/person16: 1044\n",
            "total  images in train/person17: 127\n",
            "total  images in validation/person17: 1206\n",
            "total  images in test/person17: 1206\n",
            "total  images in train/person18: 127\n",
            "total  images in validation/person18: 771\n",
            "total  images in test/person18: 772\n"
          ],
          "name": "stdout"
        }
      ]
    },
    {
      "cell_type": "markdown",
      "metadata": {
        "id": "fb5aCKv_QZR4"
      },
      "source": [
        "## **Model**"
      ]
    },
    {
      "cell_type": "markdown",
      "metadata": {
        "id": "sDGU7sI6JlPY"
      },
      "source": [
        "**We reference the training, validation and test datasets**"
      ]
    },
    {
      "cell_type": "code",
      "metadata": {
        "id": "aUZHNVy_RRs1"
      },
      "source": [
        "train_dir = os.path.join('train')\n",
        "validation_dir = os.path.join('validation')\n",
        "test_dir = os.path.join('test')"
      ],
      "execution_count": null,
      "outputs": []
    },
    {
      "cell_type": "markdown",
      "metadata": {
        "id": "-7WWbw6JJp_G"
      },
      "source": [
        "**VGG16 architecture loading (Transfer Learning)**"
      ]
    },
    {
      "cell_type": "code",
      "metadata": {
        "id": "xrqAdgeRQdM9",
        "colab": {
          "base_uri": "https://localhost:8080/"
        },
        "outputId": "61a1879e-d91a-4f76-c784-c47644e66142"
      },
      "source": [
        "from tensorflow.keras.applications import VGG16\n",
        "\n",
        "conv_base = VGG16(weights='imagenet',\n",
        "                  include_top=False,\n",
        "                  input_shape=(72, 96, 3)) # input_shape\n",
        "\n",
        "conv_base.summary()"
      ],
      "execution_count": null,
      "outputs": [
        {
          "output_type": "stream",
          "text": [
            "Downloading data from https://storage.googleapis.com/tensorflow/keras-applications/vgg16/vgg16_weights_tf_dim_ordering_tf_kernels_notop.h5\n",
            "58892288/58889256 [==============================] - 0s 0us/step\n",
            "Model: \"vgg16\"\n",
            "_________________________________________________________________\n",
            "Layer (type)                 Output Shape              Param #   \n",
            "=================================================================\n",
            "input_1 (InputLayer)         [(None, 72, 96, 3)]       0         \n",
            "_________________________________________________________________\n",
            "block1_conv1 (Conv2D)        (None, 72, 96, 64)        1792      \n",
            "_________________________________________________________________\n",
            "block1_conv2 (Conv2D)        (None, 72, 96, 64)        36928     \n",
            "_________________________________________________________________\n",
            "block1_pool (MaxPooling2D)   (None, 36, 48, 64)        0         \n",
            "_________________________________________________________________\n",
            "block2_conv1 (Conv2D)        (None, 36, 48, 128)       73856     \n",
            "_________________________________________________________________\n",
            "block2_conv2 (Conv2D)        (None, 36, 48, 128)       147584    \n",
            "_________________________________________________________________\n",
            "block2_pool (MaxPooling2D)   (None, 18, 24, 128)       0         \n",
            "_________________________________________________________________\n",
            "block3_conv1 (Conv2D)        (None, 18, 24, 256)       295168    \n",
            "_________________________________________________________________\n",
            "block3_conv2 (Conv2D)        (None, 18, 24, 256)       590080    \n",
            "_________________________________________________________________\n",
            "block3_conv3 (Conv2D)        (None, 18, 24, 256)       590080    \n",
            "_________________________________________________________________\n",
            "block3_pool (MaxPooling2D)   (None, 9, 12, 256)        0         \n",
            "_________________________________________________________________\n",
            "block4_conv1 (Conv2D)        (None, 9, 12, 512)        1180160   \n",
            "_________________________________________________________________\n",
            "block4_conv2 (Conv2D)        (None, 9, 12, 512)        2359808   \n",
            "_________________________________________________________________\n",
            "block4_conv3 (Conv2D)        (None, 9, 12, 512)        2359808   \n",
            "_________________________________________________________________\n",
            "block4_pool (MaxPooling2D)   (None, 4, 6, 512)         0         \n",
            "_________________________________________________________________\n",
            "block5_conv1 (Conv2D)        (None, 4, 6, 512)         2359808   \n",
            "_________________________________________________________________\n",
            "block5_conv2 (Conv2D)        (None, 4, 6, 512)         2359808   \n",
            "_________________________________________________________________\n",
            "block5_conv3 (Conv2D)        (None, 4, 6, 512)         2359808   \n",
            "_________________________________________________________________\n",
            "block5_pool (MaxPooling2D)   (None, 2, 3, 512)         0         \n",
            "=================================================================\n",
            "Total params: 14,714,688\n",
            "Trainable params: 14,714,688\n",
            "Non-trainable params: 0\n",
            "_________________________________________________________________\n"
          ],
          "name": "stdout"
        }
      ]
    },
    {
      "cell_type": "markdown",
      "metadata": {
        "id": "8Q6SaotDJvml"
      },
      "source": [
        "**Freezing some VGG16 layers**"
      ]
    },
    {
      "cell_type": "code",
      "metadata": {
        "id": "GToxLhHtQxSm",
        "colab": {
          "base_uri": "https://localhost:8080/"
        },
        "outputId": "2f01cf85-fb0f-48dc-d595-8f70b203194a"
      },
      "source": [
        "for layer in conv_base.layers:\n",
        "    if layer.name[:6] == 'block5': \n",
        "      layer.trainable = True\n",
        "    else:\n",
        "      layer.trainable = False\n",
        "\n",
        "conv_base.summary()"
      ],
      "execution_count": null,
      "outputs": [
        {
          "output_type": "stream",
          "text": [
            "Model: \"vgg16\"\n",
            "_________________________________________________________________\n",
            "Layer (type)                 Output Shape              Param #   \n",
            "=================================================================\n",
            "input_1 (InputLayer)         [(None, 72, 96, 3)]       0         \n",
            "_________________________________________________________________\n",
            "block1_conv1 (Conv2D)        (None, 72, 96, 64)        1792      \n",
            "_________________________________________________________________\n",
            "block1_conv2 (Conv2D)        (None, 72, 96, 64)        36928     \n",
            "_________________________________________________________________\n",
            "block1_pool (MaxPooling2D)   (None, 36, 48, 64)        0         \n",
            "_________________________________________________________________\n",
            "block2_conv1 (Conv2D)        (None, 36, 48, 128)       73856     \n",
            "_________________________________________________________________\n",
            "block2_conv2 (Conv2D)        (None, 36, 48, 128)       147584    \n",
            "_________________________________________________________________\n",
            "block2_pool (MaxPooling2D)   (None, 18, 24, 128)       0         \n",
            "_________________________________________________________________\n",
            "block3_conv1 (Conv2D)        (None, 18, 24, 256)       295168    \n",
            "_________________________________________________________________\n",
            "block3_conv2 (Conv2D)        (None, 18, 24, 256)       590080    \n",
            "_________________________________________________________________\n",
            "block3_conv3 (Conv2D)        (None, 18, 24, 256)       590080    \n",
            "_________________________________________________________________\n",
            "block3_pool (MaxPooling2D)   (None, 9, 12, 256)        0         \n",
            "_________________________________________________________________\n",
            "block4_conv1 (Conv2D)        (None, 9, 12, 512)        1180160   \n",
            "_________________________________________________________________\n",
            "block4_conv2 (Conv2D)        (None, 9, 12, 512)        2359808   \n",
            "_________________________________________________________________\n",
            "block4_conv3 (Conv2D)        (None, 9, 12, 512)        2359808   \n",
            "_________________________________________________________________\n",
            "block4_pool (MaxPooling2D)   (None, 4, 6, 512)         0         \n",
            "_________________________________________________________________\n",
            "block5_conv1 (Conv2D)        (None, 4, 6, 512)         2359808   \n",
            "_________________________________________________________________\n",
            "block5_conv2 (Conv2D)        (None, 4, 6, 512)         2359808   \n",
            "_________________________________________________________________\n",
            "block5_conv3 (Conv2D)        (None, 4, 6, 512)         2359808   \n",
            "_________________________________________________________________\n",
            "block5_pool (MaxPooling2D)   (None, 2, 3, 512)         0         \n",
            "=================================================================\n",
            "Total params: 14,714,688\n",
            "Trainable params: 7,079,424\n",
            "Non-trainable params: 7,635,264\n",
            "_________________________________________________________________\n"
          ],
          "name": "stdout"
        }
      ]
    },
    {
      "cell_type": "markdown",
      "metadata": {
        "id": "ysYRWbXVQ_lV"
      },
      "source": [
        "## **Defining the neural network architecture (including the transfer learning module)**"
      ]
    },
    {
      "cell_type": "code",
      "metadata": {
        "id": "t2LGYLGqQ-x1",
        "colab": {
          "base_uri": "https://localhost:8080/"
        },
        "outputId": "355d7d07-c0b2-4de7-f660-97dc8e484154"
      },
      "source": [
        "from keras import layers\n",
        "from keras import models\n",
        "from keras.layers.normalization import BatchNormalization\n",
        "\n",
        "model = models.Sequential()\n",
        "model.add(conv_base)\n",
        "model.add(layers.MaxPooling2D((2, 2)))\n",
        "model.add(layers.BatchNormalization()) # Normaliza los pesos aprendidos hasta este punto\n",
        "model.add(layers.Flatten())\n",
        "model.add(layers.Dense(18, activation='softmax'))\n",
        "\n",
        "model.summary()"
      ],
      "execution_count": null,
      "outputs": [
        {
          "output_type": "stream",
          "text": [
            "Model: \"sequential\"\n",
            "_________________________________________________________________\n",
            "Layer (type)                 Output Shape              Param #   \n",
            "=================================================================\n",
            "vgg16 (Functional)           (None, 2, 3, 512)         14714688  \n",
            "_________________________________________________________________\n",
            "max_pooling2d (MaxPooling2D) (None, 1, 1, 512)         0         \n",
            "_________________________________________________________________\n",
            "batch_normalization (BatchNo (None, 1, 1, 512)         2048      \n",
            "_________________________________________________________________\n",
            "flatten (Flatten)            (None, 512)               0         \n",
            "_________________________________________________________________\n",
            "dense (Dense)                (None, 18)                9234      \n",
            "=================================================================\n",
            "Total params: 14,725,970\n",
            "Trainable params: 7,089,682\n",
            "Non-trainable params: 7,636,288\n",
            "_________________________________________________________________\n"
          ],
          "name": "stdout"
        }
      ]
    },
    {
      "cell_type": "markdown",
      "metadata": {
        "id": "9BHBw-s_KD-N"
      },
      "source": [
        "## **Compiling the model**"
      ]
    },
    {
      "cell_type": "code",
      "metadata": {
        "id": "jOjtTtIBRill"
      },
      "source": [
        "from keras import optimizers\n",
        "model.compile(loss='categorical_crossentropy',\n",
        "              optimizer=optimizers.RMSprop(lr=1e-4),\n",
        "              metrics=['acc']) #'acc' -> accuracy"
      ],
      "execution_count": null,
      "outputs": []
    },
    {
      "cell_type": "markdown",
      "metadata": {
        "id": "HLFUQRRtKH8F"
      },
      "source": [
        "## **Generators definition**"
      ]
    },
    {
      "cell_type": "code",
      "metadata": {
        "id": "LUp2jo6lRqSG",
        "colab": {
          "base_uri": "https://localhost:8080/"
        },
        "outputId": "5d08e6e5-80cd-4bc6-b087-ebeb0adabdb1"
      },
      "source": [
        "#Using ImageDataGenerator to read images from directories\n",
        "from keras.preprocessing.image import ImageDataGenerator\n",
        "\n",
        "train_datagen = ImageDataGenerator(rescale=1./255)\n",
        "\n",
        "test_datagen = ImageDataGenerator(rescale=1./255)\n",
        "\n",
        "train_generator = train_datagen.flow_from_directory(\n",
        "        train_dir, # Target directory\n",
        "        target_size=(72, 96), # All images are resized from 240x320 to 72x96\n",
        "        batch_size= 9, \n",
        "        color_mode='rgb',\n",
        "        class_mode='categorical')\n",
        "\n",
        "validation_generator = test_datagen.flow_from_directory(\n",
        "        validation_dir,\n",
        "        target_size=(72, 96),\n",
        "        batch_size=1,\n",
        "        color_mode='rgb',\n",
        "        class_mode='categorical')"
      ],
      "execution_count": null,
      "outputs": [
        {
          "output_type": "stream",
          "text": [
            "Found 2286 images belonging to 18 classes.\n",
            "Found 10246 images belonging to 18 classes.\n"
          ],
          "name": "stdout"
        }
      ]
    },
    {
      "cell_type": "markdown",
      "metadata": {
        "id": "R-bRqMJZKLS9"
      },
      "source": [
        "## **Training**"
      ]
    },
    {
      "cell_type": "code",
      "metadata": {
        "id": "cIbSj6NJR35o",
        "colab": {
          "base_uri": "https://localhost:8080/"
        },
        "outputId": "f418b8e1-7876-49ba-df58-80d76d8352e6"
      },
      "source": [
        "#Training and validation stages\n",
        "history = model.fit(\n",
        "      train_generator,\n",
        "      steps_per_epoch = 254, #70 debe corresponder al tamaño del lote 9*254 = 2286\n",
        "      epochs= 30,\n",
        "      validation_data=validation_generator,\n",
        "      validation_steps=10246)"
      ],
      "execution_count": null,
      "outputs": [
        {
          "output_type": "stream",
          "text": [
            "Epoch 1/30\n",
            "254/254 [==============================] - 57s 226ms/step - loss: 0.1645 - acc: 0.9633 - val_loss: 0.0100 - val_acc: 0.9977\n",
            "Epoch 2/30\n",
            "254/254 [==============================] - 57s 226ms/step - loss: 0.0096 - acc: 0.9978 - val_loss: 0.0068 - val_acc: 0.9970\n",
            "Epoch 3/30\n",
            "254/254 [==============================] - 57s 224ms/step - loss: 6.3810e-04 - acc: 1.0000 - val_loss: 1.8085e-05 - val_acc: 1.0000\n",
            "Epoch 4/30\n",
            "254/254 [==============================] - 57s 224ms/step - loss: 1.4791e-04 - acc: 1.0000 - val_loss: 2.4523e-04 - val_acc: 1.0000\n",
            "Epoch 5/30\n",
            "254/254 [==============================] - 57s 224ms/step - loss: 1.2087e-04 - acc: 1.0000 - val_loss: 2.8230e-07 - val_acc: 1.0000\n",
            "Epoch 6/30\n",
            "254/254 [==============================] - 57s 223ms/step - loss: 1.3332e-05 - acc: 1.0000 - val_loss: 6.8331e-07 - val_acc: 1.0000\n",
            "Epoch 7/30\n",
            "254/254 [==============================] - 57s 224ms/step - loss: 5.8934e-06 - acc: 1.0000 - val_loss: 8.3990e-08 - val_acc: 1.0000\n",
            "Epoch 8/30\n",
            "254/254 [==============================] - 56s 221ms/step - loss: 2.4219e-06 - acc: 1.0000 - val_loss: 2.2688e-09 - val_acc: 1.0000\n",
            "Epoch 9/30\n",
            "254/254 [==============================] - 56s 221ms/step - loss: 6.9921e-07 - acc: 1.0000 - val_loss: 1.5009e-09 - val_acc: 1.0000\n",
            "Epoch 10/30\n",
            "254/254 [==============================] - 56s 222ms/step - loss: 2.1443e-07 - acc: 1.0000 - val_loss: 4.1885e-10 - val_acc: 1.0000\n",
            "Epoch 11/30\n",
            "254/254 [==============================] - 56s 221ms/step - loss: 3.1554e-07 - acc: 1.0000 - val_loss: 5.5870e-08 - val_acc: 1.0000\n",
            "Epoch 12/30\n",
            "254/254 [==============================] - 56s 222ms/step - loss: 2.1034e-06 - acc: 1.0000 - val_loss: 1.9779e-10 - val_acc: 1.0000\n",
            "Epoch 13/30\n",
            "254/254 [==============================] - 57s 224ms/step - loss: 2.5093e-07 - acc: 1.0000 - val_loss: 1.4322e-08 - val_acc: 1.0000\n",
            "Epoch 14/30\n",
            "254/254 [==============================] - 56s 222ms/step - loss: 7.3371e-08 - acc: 1.0000 - val_loss: 4.6539e-11 - val_acc: 1.0000\n",
            "Epoch 15/30\n",
            "254/254 [==============================] - 57s 223ms/step - loss: 8.2132e-08 - acc: 1.0000 - val_loss: 1.1635e-11 - val_acc: 1.0000\n",
            "Epoch 16/30\n",
            "254/254 [==============================] - 56s 222ms/step - loss: 1.7923e-07 - acc: 1.0000 - val_loss: 5.8174e-11 - val_acc: 1.0000\n",
            "Epoch 17/30\n",
            "254/254 [==============================] - 56s 222ms/step - loss: 2.3413e-07 - acc: 1.0000 - val_loss: 1.5341e-07 - val_acc: 1.0000\n",
            "Epoch 18/30\n",
            "254/254 [==============================] - 57s 224ms/step - loss: 2.8576e-07 - acc: 1.0000 - val_loss: 0.0000e+00 - val_acc: 1.0000\n",
            "Epoch 19/30\n",
            "254/254 [==============================] - 56s 221ms/step - loss: 4.9592e-08 - acc: 1.0000 - val_loss: 4.6539e-11 - val_acc: 1.0000\n",
            "Epoch 20/30\n",
            "254/254 [==============================] - 56s 221ms/step - loss: 8.6251e-08 - acc: 1.0000 - val_loss: 2.2106e-10 - val_acc: 1.0000\n",
            "Epoch 21/30\n",
            "254/254 [==============================] - 56s 221ms/step - loss: 4.1353e-08 - acc: 1.0000 - val_loss: 8.1443e-11 - val_acc: 1.0000\n",
            "Epoch 22/30\n",
            "254/254 [==============================] - 56s 221ms/step - loss: 2.9985e-08 - acc: 1.0000 - val_loss: 0.0000e+00 - val_acc: 1.0000\n",
            "Epoch 23/30\n",
            "254/254 [==============================] - 56s 221ms/step - loss: 2.5292e-08 - acc: 1.0000 - val_loss: 0.0000e+00 - val_acc: 1.0000\n",
            "Epoch 24/30\n",
            "254/254 [==============================] - 57s 223ms/step - loss: 6.1534e-09 - acc: 1.0000 - val_loss: 2.3269e-11 - val_acc: 1.0000\n",
            "Epoch 25/30\n",
            "254/254 [==============================] - 56s 220ms/step - loss: 1.9764e-08 - acc: 1.0000 - val_loss: 3.4904e-11 - val_acc: 1.0000\n",
            "Epoch 26/30\n",
            "254/254 [==============================] - 56s 221ms/step - loss: 2.8316e-08 - acc: 1.0000 - val_loss: 0.0000e+00 - val_acc: 1.0000\n",
            "Epoch 27/30\n",
            "254/254 [==============================] - 56s 220ms/step - loss: 1.3089e-08 - acc: 1.0000 - val_loss: 0.0000e+00 - val_acc: 1.0000\n",
            "Epoch 28/30\n",
            "254/254 [==============================] - 56s 220ms/step - loss: 5.7884e-09 - acc: 1.0000 - val_loss: 0.0000e+00 - val_acc: 1.0000\n",
            "Epoch 29/30\n",
            "254/254 [==============================] - 56s 222ms/step - loss: 1.2515e-08 - acc: 1.0000 - val_loss: 0.0000e+00 - val_acc: 1.0000\n",
            "Epoch 30/30\n",
            "254/254 [==============================] - 56s 220ms/step - loss: 1.0117e-08 - acc: 1.0000 - val_loss: 0.0000e+00 - val_acc: 1.0000\n"
          ],
          "name": "stdout"
        }
      ]
    },
    {
      "cell_type": "markdown",
      "metadata": {
        "id": "f4AIfeaS8xcN"
      },
      "source": [
        "## **Accuracy and loss graphs**"
      ]
    },
    {
      "cell_type": "code",
      "metadata": {
        "id": "nOyTdAbv8xcP",
        "colab": {
          "base_uri": "https://localhost:8080/",
          "height": 545
        },
        "outputId": "4ce6b62a-39e4-4bdd-90a7-56764e43f904"
      },
      "source": [
        "import matplotlib.pyplot as plt\n",
        "\n",
        "acc = history.history['acc']\n",
        "val_acc = history.history['val_acc']\n",
        "loss = history.history['loss']\n",
        "val_loss = history.history['val_loss']\n",
        "\n",
        "epochs = range(len(acc))\n",
        "\n",
        "plt.plot(epochs, acc, 'go', label='Precisión en el entrenamiento')\n",
        "plt.plot(epochs, val_acc, 'r', label='Precisión en la validación')\n",
        "plt.title('Precisión durante el entrenamiento y la validación')\n",
        "plt.legend()\n",
        "\n",
        "plt.figure()\n",
        "\n",
        "plt.plot(epochs, loss, 'go', label='Pérdida en el entrenamiento')\n",
        "plt.plot(epochs, val_loss, 'r', label='Pérdida en la validación')\n",
        "plt.title('Pérdida durante el entrenamiento y la validación')\n",
        "plt.legend()\n",
        "\n",
        "plt.show()"
      ],
      "execution_count": null,
      "outputs": [
        {
          "output_type": "display_data",
          "data": {
            "image/png": "[encoded data removed]",
            "text/plain": [
              "<Figure size 432x288 with 1 Axes>"
            ]
          },
          "metadata": {
            "tags": [],
            "needs_background": "light"
          }
        },
        {
          "output_type": "display_data",
          "data": {
            "image/png": "[encoded data removed]",
            "text/plain": [
              "<Figure size 432x288 with 1 Axes>"
            ]
          },
          "metadata": {
            "tags": [],
            "needs_background": "light"
          }
        }
      ]
    },
    {
      "cell_type": "markdown",
      "metadata": {
        "id": "8Zd-LQyEeHzV"
      },
      "source": [
        "## **Model retraining**"
      ]
    },
    {
      "cell_type": "code",
      "metadata": {
        "id": "qPaLLNt0eT1y"
      },
      "source": [
        "from keras import layers\n",
        "from keras import models\n",
        "from keras.layers.normalization import BatchNormalization\n",
        "\n",
        "model = models.Sequential()\n",
        "model.add(conv_base)\n",
        "model.add(layers.MaxPooling2D((2, 2)))\n",
        "model.add(layers.BatchNormalization())\n",
        "model.add(layers.Flatten())\n",
        "model.add(layers.Dense(18, activation='softmax'))\n",
        "\n",
        "from keras import optimizers\n",
        "model.compile(loss='categorical_crossentropy',\n",
        "              optimizer=optimizers.RMSprop(lr=1e-4),\n",
        "              metrics=['acc'])"
      ],
      "execution_count": null,
      "outputs": []
    },
    {
      "cell_type": "code",
      "metadata": {
        "id": "2NxtTV9Lfa8N",
        "colab": {
          "base_uri": "https://localhost:8080/"
        },
        "outputId": "d9738592-4d56-428c-c242-e3772fbf6d1e"
      },
      "source": [
        "#Training and validation stages\n",
        "history = model.fit(\n",
        "      train_generator,\n",
        "      steps_per_epoch=254, #70\n",
        "      epochs= 3)"
      ],
      "execution_count": null,
      "outputs": [
        {
          "output_type": "stream",
          "text": [
            "Epoch 1/3\n",
            "254/254 [==============================] - 5s 21ms/step - loss: 0.0546 - acc: 0.9895\n",
            "Epoch 2/3\n",
            "254/254 [==============================] - 5s 21ms/step - loss: 2.5889e-05 - acc: 1.0000\n",
            "Epoch 3/3\n",
            "254/254 [==============================] - 5s 21ms/step - loss: 5.9278e-06 - acc: 1.0000\n"
          ],
          "name": "stdout"
        }
      ]
    },
    {
      "cell_type": "code",
      "metadata": {
        "id": "3VQF2x6pzLh2"
      },
      "source": [
        "# Saving the model in Google Drive\n",
        "model.save('/content/drive/My Drive/face_recognition_model1.h5')"
      ],
      "execution_count": null,
      "outputs": []
    },
    {
      "cell_type": "code",
      "metadata": {
        "id": "5lHMJ-n2zXGT"
      },
      "source": [
        "# Loading the saved model\n",
        "from keras.models import load_model\n",
        "\n",
        "model = load_model('/content/drive/My Drive/face_recognition_model1.h5')"
      ],
      "execution_count": null,
      "outputs": []
    },
    {
      "cell_type": "markdown",
      "metadata": {
        "id": "NgeW-BUuKQwl"
      },
      "source": [
        "## **Evaluating the model**"
      ]
    },
    {
      "cell_type": "code",
      "metadata": {
        "id": "kl4H8Zy5edcB",
        "colab": {
          "base_uri": "https://localhost:8080/"
        },
        "outputId": "dae7ea5d-52fc-4ebe-acec-1f8a0f665fc4"
      },
      "source": [
        "#Test stage\n",
        "test_generator = test_datagen.flow_from_directory(\n",
        "        test_dir,\n",
        "        target_size=(72, 96),\n",
        "        batch_size=1,\n",
        "        color_mode='rgb',\n",
        "        class_mode='categorical')\n",
        "\n",
        "test_loss, test_acc = model.evaluate_generator(test_generator, steps=900)\n",
        "print('Recognition rate: ', test_acc)"
      ],
      "execution_count": null,
      "outputs": [
        {
          "output_type": "stream",
          "text": [
            "Found 10252 images belonging to 18 classes.\n",
            "WARNING:tensorflow:From <ipython-input-28-156ea290fd46>:9: Model.evaluate_generator (from tensorflow.python.keras.engine.training) is deprecated and will be removed in a future version.\n",
            "Instructions for updating:\n",
            "Please use Model.evaluate, which supports generators.\n",
            "Recognition rate:  1.0\n"
          ],
          "name": "stdout"
        }
      ]
    },
    {
      "cell_type": "markdown",
      "metadata": {
        "id": "0B741ANM4J1d"
      },
      "source": [
        "## **Predictions**"
      ]
    },
    {
      "cell_type": "code",
      "metadata": {
        "id": "r1VfdtbNncQr"
      },
      "source": [
        "from PIL import Image #PILLOW\n",
        "\n",
        "width = 96\n",
        "height = 72\n",
        "image_face = Image.open('train/person12/0029.jpg')\n",
        "image_face = image_face.resize((width, height), Image.ANTIALIAS) # Image.ANTIALIAS reduce el ruido cuando reduces la imagen, Image.BICUBIC reduce el ruido cuando agrandas la imagen\n",
        "image_face = np.array(image_face) # La imagen se convierte en un arreglo\n",
        "image_face = image_face / 255.0 #-> #Tensor -> (72,96)"
      ],
      "execution_count": null,
      "outputs": []
    },
    {
      "cell_type": "code",
      "metadata": {
        "colab": {
          "base_uri": "https://localhost:8080/"
        },
        "id": "rPoMa1-ugftO",
        "outputId": "25af2512-2aef-426f-900f-03535baad8a2"
      },
      "source": [
        "image_face = np.expand_dims(image_face, axis = 0) #TENSOR -> (1, 72, 96)\n",
        "image_face = np.expand_dims(image_face, axis = -1) #TENSOR -> (1, 72, 96, 1)\n",
        "image_face = np.stack((image_face[:,:,:,0], image_face[:,:,:,0], image_face[:,:,:,0]), axis=3) #TENSOR -> (1, 72, 96, 3) Unión de canales\n",
        "print(image_face.shape)\n",
        "prediction = model.predict(image_face)\n",
        "print('La imagen pertenece a la persona', np.argmax(prediction)+1)"
      ],
      "execution_count": null,
      "outputs": [
        {
          "output_type": "stream",
          "text": [
            "(1, 72, 96, 3)\n",
            "La imagen pertenece a la persona 12\n"
          ],
          "name": "stdout"
        }
      ]
    },
    {
      "cell_type": "code",
      "metadata": {
        "id": "mzPZRD8y47OL",
        "colab": {
          "base_uri": "https://localhost:8080/"
        },
        "outputId": "d72eaffd-af37-49f3-dcfa-f226be6e05f0"
      },
      "source": [
        "prediction"
      ],
      "execution_count": null,
      "outputs": [
        {
          "output_type": "execute_result",
          "data": {
            "text/plain": [
              "array([[1.6245448e-11, 1.9399989e-11, 1.7529271e-11, 3.4576352e-12,\n",
              "        9.1216357e-12, 2.9940141e-11, 3.0596923e-12, 7.6258791e-11,\n",
              "        6.5624403e-12, 1.9939411e-11, 1.9755030e-10, 1.0000000e+00,\n",
              "        1.4056047e-11, 4.4294932e-11, 1.7719612e-10, 3.8963222e-11,\n",
              "        2.9519043e-12, 4.5703510e-12]], dtype=float32)"
            ]
          },
          "metadata": {
            "tags": []
          },
          "execution_count": 32
        }
      ]
    }
  ]
}